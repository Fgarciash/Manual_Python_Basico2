{
 "cells": [
  {
   "cell_type": "markdown",
   "metadata": {},
   "source": [
    "# Manual Python Nivel Básico"
   ]
  },
  {
   "cell_type": "markdown",
   "metadata": {},
   "source": [
    "## Programación Orientada a Objetos"
   ]
  },
  {
   "cell_type": "markdown",
   "metadata": {},
   "source": [
    "En python, como en muchos otros lenguajes de programación, es posible utilizar programación orientada a objetos (POO). Como ocurrió con el origen de los algoritmos de inteligencia artificial tales como ACO (Ant colony optimization) o PSO (particle swarm optimization), la POO tuvo su origen a raíz de la observación de la naturaleza, pero en un contexto más estructural (ACO y PSO en un contexto ecológico conductual). Su utilización se popularizó a principios de la década de los 90, y entre muchas de sus ventajas está el hecho de que nos permite reutilizar código. \n",
    "Antes de la POO, la programación consistía en una interminable secuencia de código poco amigable que, por ejemplo, hacía muy difícil auditar un programa, y prácticamente imposible reutilizarlo en otro desarrollo. El poder programar definiendo objetos de manera análoga a los objetos que observamos en la vida cotidiana, definir un estado, un comportamiento y propiedades, nos facilita de manera considerable la tarea. Por ejemplo un automóvil tiene un estado (detenido o movimiento),tiene un comportamiento (puede frenar o acelerar) y tiene propiedades (color, peso, tamaño). En este contexto podemos necesitar definir varios autos por cada fabricante, pero todos compartirán características comunes como el tener un chasis y tener 4 ruedas, obedecerán a comportamientos similares, y por otro lado tendrán características propias definidas por el fabricante, lo que los hará pertenecer a un grupo diferente según fabricante. \n",
    "La POO posee otras ventajas tales como la Modulación, la Herencia y el encapsulamiento, que también nacen a partir de la observación natural. Estas propiedades se irán revisando a medida que avanza este manual.Es importante mencionar que nos encontraremos con una terminología muy propia de este lenguaje, por ello revisaremos a continuación los más comunes.\n",
    "\n",
    "### Clase: \n",
    "Podemos definir a una clase como las caracteristicas comunes que se construyen en un porgrama que desarrolla un determinado trabajo. En el ejemplo del automovil sería el chasis y la cantidad de ruedas.\n",
    "\n",
    "### Ejemplar de Clases, instancia de clase u objeto de una clase:\n",
    "Estas tres denominaciones reflejan la misma idea. Una instancia sería un objeto o ejemplar perteneciente a una clase, por ejemplo 2 autos de distintos fabricantes, ambos comparten el mismo chasis y tendrán 4 ruedas, pero también tendrán características propias dadas por cada fabricante, sin embargo se denominará al auto \"A\" como un objeto perteneciente a la clase, o ejemplar de clase, o como instancia de clase.\n",
    "\n",
    "### Modularización:\n",
    "En palabras simples, modularizar significa dividir un problema en partes independientes. Para un mejor entendimiento debemos recordar o revisar el funcionamiento de los equipos de sonido modulares. Cada módulo funcionaba de manera independiente. Existe un módulo para la reproducción de discos, otro módulo para la reproducción de la radio, otro módulo para la ecualización, etc. Si fallaba cualquiera de estos módulos, el resto continúa funcionando. En python podemos programar diferentes clases en módulos independientes y el hecho de que uno de ellos registre un error no implica que los otros continúen con su funcionamiento.\n",
    "\n",
    "### Encapsulamiento:\n",
    "Se denomina encapsulamiento al ocultamiento del estado de los datos de un objeto, de manera que sólo se pueda cambiar mediante las operaciones definidas para ese objeto. El funcionamiento interno de cada módulo es propio de ese módulo, ya que está encapsulado en la clase. Por ejemplo, un módulo \"A\" nada sabe del módulo \"B\", sin embargo estarán conectados para que funcionen como equipo. Las clases son conectadas mediante métodos de acceso, pero sólo tendrán acceso a ciertas características de cada una de las clases (El cd le pide a la radio que suba el volumen, pero el cd nada sabe del funcionamiento de la radio dado que está encapsulada).\n",
    "\n",
    "Entonces es ahora valido preguntarnos cómo construimos clases, cómo construimos objetos y cómo accedemos a las propiedades de cada objeto. Esto último lo realizaremos con la nomenclatura del punto.Comenzaremos entonces ejemplificando la creación de una clase que se encargará de construir automóviles. En ella definiremos propiedades comunes para cada instancia de clase, y mediante funciones definiremos comportamientos o métodos propios en cada instancia.Todos los objetos o instancias de clase que generemos tendrán 4 características comunes y estarán en un estado inicial determinado.Definiremos comportamientos de esta clase mediante métodos. Los métodos son similares a las funciones, sin embargo son propios de la clase, en cambio una función es más genérica.Definamos entonces la clase Auto con cuatro métodos.\n"
   ]
  },
  {
   "cell_type": "code",
   "execution_count": 1,
   "metadata": {},
   "outputs": [],
   "source": [
    "class Auto():\n",
    "    #DEFINIENDO PROPIEDADES COMUNES\n",
    "\tlargoChasis=250 \n",
    "\tanchoChasis=120\n",
    "\tRuedas=4\n",
    "\tenmarcha=False # los autos que se construyan estarán por defaul detenidos\n"
   ]
  },
  {
   "cell_type": "markdown",
   "metadata": {},
   "source": [
    "Una vez creada nuestra clase, podemos crear objetos, ejemplares de clase, o instanciar la clase.\n",
    "Le llamaremos miAuto a nuestra primera instancia"
   ]
  },
  {
   "cell_type": "code",
   "execution_count": 2,
   "metadata": {},
   "outputs": [],
   "source": [
    "miAuto=Auto() "
   ]
  },
  {
   "cell_type": "markdown",
   "metadata": {},
   "source": [
    "Ahora ya estamos en condiciones de consultar las propiedas de este primer objeto mediante la metodología del punto."
   ]
  },
  {
   "cell_type": "code",
   "execution_count": 3,
   "metadata": {},
   "outputs": [
    {
     "name": "stdout",
     "output_type": "stream",
     "text": [
      "250\n"
     ]
    }
   ],
   "source": [
    "print(miAuto.largoChasis) # metodología del punto: miAuto(punto)largoChasis"
   ]
  },
  {
   "cell_type": "code",
   "execution_count": 4,
   "metadata": {},
   "outputs": [
    {
     "name": "stdout",
     "output_type": "stream",
     "text": [
      "el largo del auto es:  250\n"
     ]
    }
   ],
   "source": [
    "print(\"el largo del auto es: \", miAuto.largoChasis) # modificando un poco la sintaxis en el print"
   ]
  },
  {
   "cell_type": "markdown",
   "metadata": {},
   "source": [
    "Otro ejemplo de pregunta que podemos hacer es:"
   ]
  },
  {
   "cell_type": "code",
   "execution_count": 5,
   "metadata": {},
   "outputs": [
    {
     "name": "stdout",
     "output_type": "stream",
     "text": [
      "el auto tiene  4 Ruedas\n"
     ]
    }
   ],
   "source": [
    "print(\"el auto tiene \", miAuto.Ruedas, \"Ruedas\")"
   ]
  },
  {
   "cell_type": "markdown",
   "metadata": {},
   "source": [
    "Podemos consultar por un comportamiento del objeto recien creado, pero antes debemos definir este comportamiento. Primero damos partida cambiando el estado inicial que es común de la clase, definiendo el método \"partida = True\", el cual sólo activaremos con la llamada \"miAuto.partida()\". Después de esto  definiremos un estado \"en marcha\" o \"parado\", es decir, definiremos dos comportamientos con el comando \"def\""
   ]
  },
  {
   "cell_type": "code",
   "execution_count": 6,
   "metadata": {},
   "outputs": [],
   "source": [
    "        \n",
    "class Auto():\n",
    "\tlargoChasis=250 #propiedades comunes que tendran\n",
    "\tanchoChasis=120\n",
    "\tRuedas=4\n",
    "\tenmarcha=False # todos los coches estarán por defaul detenidos\n",
    "\n",
    "        #DEFINIENDO COMPORTAMIENTOS\n",
    "\tdef arrancar(self): \n",
    "\n",
    "\t\tself.enmarcha=True    #Redefinimos el estado para darle partida invocando el método\n",
    "\n",
    "\tdef estado(self):\n",
    "\t\tif (self.enmarcha==True): \n",
    "\t\t\treturn \"El auto esta en marcha\"\n",
    "\n",
    "\t\telse:\n",
    "\n",
    "\t\t\treturn \"el auto esta parado\"\t        \n",
    "        "
   ]
  },
  {
   "cell_type": "markdown",
   "metadata": {},
   "source": [
    "Instanciamos la clase"
   ]
  },
  {
   "cell_type": "code",
   "execution_count": 7,
   "metadata": {},
   "outputs": [],
   "source": [
    "miAuto=Auto() "
   ]
  },
  {
   "cell_type": "markdown",
   "metadata": {},
   "source": [
    "consultamos estado"
   ]
  },
  {
   "cell_type": "code",
   "execution_count": 8,
   "metadata": {},
   "outputs": [
    {
     "name": "stdout",
     "output_type": "stream",
     "text": [
      "el auto esta parado\n"
     ]
    }
   ],
   "source": [
    "print(miAuto.estado())"
   ]
  },
  {
   "cell_type": "markdown",
   "metadata": {},
   "source": [
    "Ahora si arrancamos el auto"
   ]
  },
  {
   "cell_type": "code",
   "execution_count": 9,
   "metadata": {},
   "outputs": [],
   "source": [
    "miAuto.arrancar()"
   ]
  },
  {
   "cell_type": "markdown",
   "metadata": {},
   "source": [
    "y consultamos nuevamente el estado"
   ]
  },
  {
   "cell_type": "code",
   "execution_count": 10,
   "metadata": {
    "scrolled": true
   },
   "outputs": [
    {
     "name": "stdout",
     "output_type": "stream",
     "text": [
      "El auto esta en marcha\n"
     ]
    }
   ],
   "source": [
    "print(miAuto.estado())"
   ]
  },
  {
   "cell_type": "markdown",
   "metadata": {},
   "source": [
    "Podemos ahora crear una segunda instancia a la cual llamaremos miAuto2. Ambos objeto compartirán características comunes propias de la clase, sin embargo el segundo auto no lo arrancaremos."
   ]
  },
  {
   "cell_type": "code",
   "execution_count": 11,
   "metadata": {},
   "outputs": [],
   "source": [
    "miAuto2=Auto() "
   ]
  },
  {
   "cell_type": "code",
   "execution_count": 12,
   "metadata": {},
   "outputs": [
    {
     "name": "stdout",
     "output_type": "stream",
     "text": [
      "el largo del auto es:  250\n",
      "el largo del auto es:  250\n"
     ]
    }
   ],
   "source": [
    "print(\"el largo del auto es: \", miAuto.largoChasis)\n",
    "print(\"el largo del auto es: \", miAuto2.largoChasis)"
   ]
  },
  {
   "cell_type": "code",
   "execution_count": 13,
   "metadata": {},
   "outputs": [
    {
     "name": "stdout",
     "output_type": "stream",
     "text": [
      "el auto tiene  4 Ruedas\n",
      "el auto tiene  4 Ruedas\n"
     ]
    }
   ],
   "source": [
    "print(\"el auto tiene \", miAuto.Ruedas, \"Ruedas\")\n",
    "print(\"el auto tiene \", miAuto2.Ruedas, \"Ruedas\")"
   ]
  },
  {
   "cell_type": "code",
   "execution_count": 14,
   "metadata": {},
   "outputs": [
    {
     "name": "stdout",
     "output_type": "stream",
     "text": [
      "El auto esta en marcha\n",
      "el auto esta parado\n"
     ]
    }
   ],
   "source": [
    "print(miAuto.estado())\n",
    "print(miAuto2.estado()) # recordemos que no le dimos arranque con miAuto2.arrancar()"
   ]
  },
  {
   "cell_type": "markdown",
   "metadata": {},
   "source": [
    "Podemos solicitar al metodo \"arrancar\" que también nos informe del \"estado\" del objeto, esto lo conseguiremos, al igual que con las funciones, asignando un parámetro al método \"arrancar\" y definiendolo dentro de este método con un \"if\" \"else\". Posteriormente lo invocaremos asignando el parámetro \"True\" o \"False\" si queremos o no arrancar el objeto.\n",
    "Notar que sacamos la propiedad común \"enmarcha\" fuera del metodo \"estado\" y lo llevamos al metodo arranque. En reemplazo de lo anterior, invocaremos proiedades comunes en el método estado."
   ]
  },
  {
   "cell_type": "code",
   "execution_count": 15,
   "metadata": {},
   "outputs": [],
   "source": [
    "class Auto():\n",
    "\tlargoChasis=250\n",
    "\tanchoChasis=120\n",
    "\tRuedas=4\n",
    "\tenmarcha=False\n",
    "\n",
    "\tdef arrancar(self, arrancamos): # el metodo arrancar recibe un parámetro \n",
    "\t\tself.enmarcha=arrancamos\n",
    "\n",
    "\t\tif (self.enmarcha): #True\n",
    "\t\t\treturn \"El auto esta en marcha\"\n",
    "\n",
    "\t\telse:\n",
    "\n",
    "\t\t\treturn \"el auto esta parado\"\t\n",
    "\n",
    "\n",
    "\tdef estado(self):\n",
    "\t\tprint(\"El auto tiene \", self.Ruedas, \"Ruedas. Un ancho de \", self.anchoChasis, \n",
    "              \"y un largo de \", self.largoChasis  )\n",
    "\n"
   ]
  },
  {
   "cell_type": "markdown",
   "metadata": {},
   "source": [
    "Definimos el objeto e imprimimos algunas características comunes. Podemos entonces decidir si queremos arrancarlo. En este ejemplo lo arrancaremos con un \"True\""
   ]
  },
  {
   "cell_type": "code",
   "execution_count": 16,
   "metadata": {},
   "outputs": [],
   "source": [
    "miAuto=Auto()"
   ]
  },
  {
   "cell_type": "code",
   "execution_count": 17,
   "metadata": {},
   "outputs": [
    {
     "name": "stdout",
     "output_type": "stream",
     "text": [
      "El auto esta en marcha\n"
     ]
    }
   ],
   "source": [
    "print(miAuto.arrancar(True))"
   ]
  },
  {
   "cell_type": "markdown",
   "metadata": {},
   "source": [
    "Podemos entonces construir nuevamente un segundo objeto en la clase al cual llamaremos \"miAuto2\". Note la cantidad de código ahorrado al haber definido una clase común, ya que sólo debemos definir el nuevo objeto \"miAuto2\" e imprimir características "
   ]
  },
  {
   "cell_type": "code",
   "execution_count": 18,
   "metadata": {},
   "outputs": [],
   "source": [
    "miAuto2=Auto()"
   ]
  },
  {
   "cell_type": "markdown",
   "metadata": {},
   "source": [
    "Haremos una comparación entre ambos objetos. Las características comunes de la clase se conservarán, y sólo podremos modificar el arrancar o no el automóvil."
   ]
  },
  {
   "cell_type": "code",
   "execution_count": 19,
   "metadata": {
    "scrolled": true
   },
   "outputs": [
    {
     "name": "stdout",
     "output_type": "stream",
     "text": [
      "el largo del coche es:  250\n",
      "el largo del coche es:  250\n"
     ]
    }
   ],
   "source": [
    "print(\"el largo del coche es: \", miAuto.largoChasis)\n",
    "print(\"el largo del coche es: \", miAuto2.largoChasis)\n"
   ]
  },
  {
   "cell_type": "code",
   "execution_count": 20,
   "metadata": {},
   "outputs": [
    {
     "name": "stdout",
     "output_type": "stream",
     "text": [
      "el Auto tiene  4 Ruedas\n",
      "el Auto tiene  4 Ruedas\n"
     ]
    }
   ],
   "source": [
    "print(\"el Auto tiene \", miAuto.Ruedas, \"Ruedas\")\n",
    "print(\"el Auto tiene \", miAuto2.Ruedas, \"Ruedas\")"
   ]
  },
  {
   "cell_type": "code",
   "execution_count": 21,
   "metadata": {},
   "outputs": [
    {
     "name": "stdout",
     "output_type": "stream",
     "text": [
      "El auto esta en marcha\n",
      "el auto esta parado\n"
     ]
    }
   ],
   "source": [
    "print(miAuto.arrancar(True))\n",
    "print(miAuto.arrancar(False))\n"
   ]
  },
  {
   "cell_type": "markdown",
   "metadata": {},
   "source": [
    "Sin embargo, podemos redefinir desde el exterior de la clase el número de ruedas, y al momento de imprimir nos generaría una inconsistencia lógica dado que no existen autos de 2 ruedas."
   ]
  },
  {
   "cell_type": "code",
   "execution_count": 22,
   "metadata": {},
   "outputs": [],
   "source": [
    "miAuto2.Ruedas=2"
   ]
  },
  {
   "cell_type": "code",
   "execution_count": 23,
   "metadata": {},
   "outputs": [
    {
     "name": "stdout",
     "output_type": "stream",
     "text": [
      "El auto tiene  4 Ruedas. Un ancho de  120 y un largo de  250\n",
      "El auto tiene  2 Ruedas. Un ancho de  120 y un largo de  250\n"
     ]
    }
   ],
   "source": [
    "miAuto.estado()\n",
    "miAuto2.estado()"
   ]
  },
  {
   "cell_type": "markdown",
   "metadata": {},
   "source": [
    "Esta incosistencia lógica la podemos evitar mediante la encapsulación."
   ]
  },
  {
   "cell_type": "markdown",
   "metadata": {},
   "source": [
    "## Encapsulación y utilización de constructores"
   ]
  },
  {
   "cell_type": "markdown",
   "metadata": {},
   "source": [
    "Las características o métodos creados inicialmente son fijos pero modificables con cualquier instrucción desde el exterior de la clase. Para evitar esto podemos definirlos y protegerlos como métodos originales \"de fabrica\", es decir, en cuanto definamos un nuevo objeto perteneciente a esta clase, se le incorporarán inmediatamente estas características. Este estado inicial lo podemos definir con un \"constructor\". Para crear un método constructor en python debemos utilizar el comando :"
   ]
  },
  {
   "cell_type": "raw",
   "metadata": {},
   "source": [
    "def __ini__ "
   ]
  },
  {
   "cell_type": "markdown",
   "metadata": {},
   "source": [
    "Y para cada característica con dos guiones bajos ( __ ) después del comando self, esto último nos permitirá encapsular la propiedad y protegerla para evitar modificación desde el exterior de la clase como evidenciamos en el ejemplo anterior."
   ]
  },
  {
   "cell_type": "code",
   "execution_count": 24,
   "metadata": {},
   "outputs": [],
   "source": [
    "class Auto():\n",
    "\n",
    "\tdef __init__(self): #Crea un constructor que permite iniciar todos los objetos creados \n",
    "                        #con un estado inicial\n",
    "\n",
    "\t\tself.__largoChasis=250\n",
    "\t\tself.__anchoChasis=120\n",
    "\t\tself.__Ruedas=4 # \"__\" es para encapsular...con esto evitamos que se modifique desde el \n",
    "                        #exterior de la clase\n",
    "\t\tself.__enmarcha=False\n",
    "\n",
    "\tdef arrancar(self, arrancamos):\n",
    "\t\tself.__enmarcha=arrancamos\n",
    "\n",
    "\t\tif (self.__enmarcha== True): \n",
    "\t\t\treturn \"El auto esta en marcha\"\n",
    "\n",
    "\t\telse:\n",
    "\n",
    "\t\t\treturn \"el auto esta parado\"\n",
    "\n",
    "\n",
    "\tdef estado(self):\n",
    "\t\tprint(\"El auto tiene \", self.__Ruedas, \"Ruedas. Un ancho de \", self.__anchoChasis, \n",
    "              \"y un largo de \", self.__largoChasis )\n"
   ]
  },
  {
   "cell_type": "markdown",
   "metadata": {},
   "source": [
    "Definimos la primera instancia de clase, consultamos si está en marcha y las características iniciales, respectivamente."
   ]
  },
  {
   "cell_type": "code",
   "execution_count": 25,
   "metadata": {},
   "outputs": [
    {
     "name": "stdout",
     "output_type": "stream",
     "text": [
      "El auto esta en marcha\n",
      "El auto tiene  4 Ruedas. Un ancho de  120 y un largo de  250\n"
     ]
    }
   ],
   "source": [
    "miAuto=Auto()\n",
    "\n",
    "print(miAuto.arrancar(True))\n",
    "miAuto.estado()"
   ]
  },
  {
   "cell_type": "markdown",
   "metadata": {},
   "source": [
    "Definimos la segunda instancia de clase, consultamos si está en marcha y las características iniciales, respectivamente."
   ]
  },
  {
   "cell_type": "code",
   "execution_count": 26,
   "metadata": {},
   "outputs": [
    {
     "name": "stdout",
     "output_type": "stream",
     "text": [
      "el auto esta parado\n",
      "El auto tiene  4 Ruedas. Un ancho de  120 y un largo de  250\n"
     ]
    }
   ],
   "source": [
    "miAuto2=Auto()\n",
    "\n",
    "print(miAuto2.arrancar(False))\n",
    "miAuto2.estado()"
   ]
  },
  {
   "cell_type": "markdown",
   "metadata": {},
   "source": [
    "Tratamos de redefinir el número de ruedas desde el exterior pero ya no es posible debido al encapsulamiento."
   ]
  },
  {
   "cell_type": "code",
   "execution_count": 27,
   "metadata": {},
   "outputs": [],
   "source": [
    "miAuto2.__Ruedas=2"
   ]
  },
  {
   "cell_type": "code",
   "execution_count": 28,
   "metadata": {},
   "outputs": [
    {
     "name": "stdout",
     "output_type": "stream",
     "text": [
      "El auto tiene  4 Ruedas. Un ancho de  120 y un largo de  250\n"
     ]
    }
   ],
   "source": [
    "miAuto2.estado()"
   ]
  },
  {
   "cell_type": "markdown",
   "metadata": {},
   "source": [
    "El resultado sigue indicando que nuestro objeto tiene 4 ruedas"
   ]
  },
  {
   "cell_type": "markdown",
   "metadata": {},
   "source": [
    "## Encapsulamiento de métodos"
   ]
  },
  {
   "cell_type": "markdown",
   "metadata": {},
   "source": [
    "De manera análoga, encapsularemos un método para que sea sólo accesible desde la propia clase. Para ello haremos un nuevo método cuyo propósito será hacer un chequeo interno de nuestro auto antes de arrancar."
   ]
  },
  {
   "cell_type": "markdown",
   "metadata": {},
   "source": [
    "Primero crearemos un nuevo método no encapsulado y lo llamaremos chequeo interno, el cual revisará el estado del aceite, gasolina y puertas antes de arrancar. Si definimos arrancar ==True, realizará el chequeo"
   ]
  },
  {
   "cell_type": "code",
   "execution_count": 29,
   "metadata": {},
   "outputs": [],
   "source": [
    "class Auto():\n",
    "\n",
    "\tdef __init__(self): \n",
    "\n",
    "\t\tself.__largoChasis=250\n",
    "\t\tself.__anchoChasis=120\n",
    "\t\tself.__Ruedas=4 \n",
    "\t\tself.__enmarcha=False\n",
    "\n",
    "\tdef arrancar(self, arrancamos):\n",
    "\t\tself.__enmarcha=arrancamos\n",
    "\n",
    "\t\tif(self.__enmarcha==True): #Aqui definiremos que si el auto está en marcha entonces \n",
    "                                   #realizar chequeo\n",
    "\t\t\tchequeo=self.chequeo_interno()\n",
    "\n",
    "\t\tif (self.__enmarcha and chequeo): # puedo omitir ==True, por default python lo \n",
    "                                          #considerará\n",
    "\t\t\treturn \"El auto esta en marcha\"\n",
    "\n",
    "\t\telif(self.__enmarcha and chequeo== False):\n",
    "\t\t\treturn \"Algo ha ido mal en el chequeo. No podemos arrancar\"\n",
    "\n",
    "\n",
    "\t\telse:\n",
    "\n",
    "\t\t\treturn \"el auto esta parado\"\t\n",
    "\n",
    "\n",
    "\tdef estado(self):\n",
    "\t\tprint(\"El auto tiene \", self.__Ruedas, \"Ruedas. Un ancho de \", self.__anchoChasis, \n",
    "              \"y un largo de \", self.__largoChasis )\n",
    "\n",
    "#### Nuevo método chequeo interno ###########\n",
    "\tdef chequeo_interno(self):\n",
    "\t\tprint(\"realizando chequeo interno\")\n",
    "\n",
    "\t\tself.gasolina=\"ok\"\n",
    "\t\tself.aceite=\"ok\"\n",
    "\t\t#self.aceite=\"mal\"\n",
    "\t\tself.puertas=\"cerradas\"\n",
    "\n",
    "\t\tif(self.gasolina==\"ok\" and self.aceite==\"ok\" and self.puertas==\"cerradas\"):\n",
    "\n",
    "\t\t\treturn True\n",
    "\n",
    "\t\telse:\n",
    "\t\t\n",
    "\t\t\treturn False\t\n"
   ]
  },
  {
   "cell_type": "markdown",
   "metadata": {},
   "source": [
    "Definimos el objeto Auto, le damos arrancar y revisamos su estado."
   ]
  },
  {
   "cell_type": "code",
   "execution_count": 30,
   "metadata": {},
   "outputs": [
    {
     "name": "stdout",
     "output_type": "stream",
     "text": [
      "realizando chequeo interno\n",
      "El auto esta en marcha\n",
      "El auto tiene  4 Ruedas. Un ancho de  120 y un largo de  250\n"
     ]
    }
   ],
   "source": [
    "miAuto=Auto()\n",
    "\n",
    "print(miAuto.arrancar(True))\n",
    "\n",
    "miAuto.estado()\n",
    "\n"
   ]
  },
  {
   "cell_type": "markdown",
   "metadata": {},
   "source": [
    "Definimos un segundo objeto pero en este caso no lo arrancamos. Lo que resultaría ilógico es que solicitemos un chequeo de gasolina, aceite y puertas dado que aún no lo hemos arrancado. Para evitar estas inconsistencia lógica utilizaremos el encapsulamiento de método."
   ]
  },
  {
   "cell_type": "code",
   "execution_count": 31,
   "metadata": {},
   "outputs": [
    {
     "name": "stdout",
     "output_type": "stream",
     "text": [
      "el auto esta parado\n",
      "El auto tiene  4 Ruedas. Un ancho de  120 y un largo de  250\n",
      "realizando chequeo interno\n",
      "True\n"
     ]
    }
   ],
   "source": [
    "miAuto2=Auto()\n",
    "\n",
    "print(miAuto2.arrancar(False))\n",
    "\n",
    "miAuto2.estado()\n",
    "\n",
    "print(miAuto2.chequeo_interno()) # Es Ilógico pedir realizar chequeo interno al auto detenido"
   ]
  },
  {
   "cell_type": "markdown",
   "metadata": {},
   "source": [
    "Encapsulamos el método con \"guiones bajos\" ( __chequeo_interno ) al momento de definirlo y también cuando hacemos la invocación al método."
   ]
  },
  {
   "cell_type": "code",
   "execution_count": 32,
   "metadata": {},
   "outputs": [],
   "source": [
    "class Auto():\n",
    "\n",
    "\tdef __init__(self): \n",
    "\n",
    "\t\tself.__largoChasis=250\n",
    "\t\tself.__anchoChasis=120\n",
    "\t\tself.__Ruedas=4 \n",
    "\t\tself.__enmarcha=False\n",
    "\n",
    "\tdef arrancar(self, arrancamos):\n",
    "\t\tself.__enmarcha=arrancamos\n",
    "\n",
    "\t\tif(self.__enmarcha):\n",
    "\t\t\tchequeo=self.__chequeo_interno() #Encampsulamos al momento de invocar\n",
    "\n",
    "\t\tif (self.__enmarcha and chequeo): \n",
    "\t\t\treturn \"El auto esta en marcha\"\n",
    "\n",
    "\t\telif(self.__enmarcha and chequeo== False):\n",
    "\t\t\treturn \"Algo ha ido mal en el chequeo. No podemos arrancar\"\n",
    "\n",
    "\n",
    "\t\telse:\n",
    "\n",
    "\t\t\treturn \"el auto esta parado\"\n",
    "\n",
    "\n",
    "\tdef estado(self):\n",
    "\t\tprint(\"El auto tiene \", self.__Ruedas, \"Ruedas. Un ancho de \", self.__anchoChasis, \n",
    "              \"y un largo de \", self.__largoChasis )\n",
    "\n",
    "####Encapsulando el método. se hace con los 2 guines bajos\n",
    "\tdef __chequeo_interno(self): # Encapsulamos\n",
    "\t\tprint(\"realizando chequeo interno\")\n",
    "\n",
    "\t\tself.gasolina=\"ok\"\n",
    "\t\tself.aceite=\"ok\"\n",
    "\t\t#self.aceite=\"mal\"\n",
    "\t\tself.puertas=\"cerradas\"\n",
    "\n",
    "\t\tif(self.gasolina==\"ok\" and self.aceite==\"ok\" and self.puertas==\"cerradas\"):\n",
    "\n",
    "\t\t\treturn True\n",
    "\n",
    "\t\telse:\n",
    "\t\t\n",
    "\t\t\treturn False\t\n"
   ]
  },
  {
   "cell_type": "markdown",
   "metadata": {},
   "source": [
    "Solicitamos los resultados del primer auto."
   ]
  },
  {
   "cell_type": "code",
   "execution_count": 33,
   "metadata": {},
   "outputs": [
    {
     "name": "stdout",
     "output_type": "stream",
     "text": [
      "realizando chequeo interno\n",
      "El auto esta en marcha\n",
      "El auto tiene  4 Ruedas. Un ancho de  120 y un largo de  250\n"
     ]
    }
   ],
   "source": [
    "miAuto=Auto()\n",
    "\n",
    "print(miAuto.arrancar(True))\n",
    "\n",
    "miAuto.estado()\n",
    "\n",
    "\n"
   ]
  },
  {
   "cell_type": "markdown",
   "metadata": {},
   "source": [
    "Solicitamos la información del segundo auto, pero en este caso nos arroja error \"AttributeError\" debido a que estamos solicitando el chequeo interno a un \"auto que no está en marcha\" dado que el método chequeo_interno fue encapsulado."
   ]
  },
  {
   "cell_type": "code",
   "execution_count": 34,
   "metadata": {},
   "outputs": [
    {
     "ename": "NameError",
     "evalue": "name 'Coche' is not defined",
     "output_type": "error",
     "traceback": [
      "\u001b[1;31m---------------------------------------------------------------------------\u001b[0m",
      "\u001b[1;31mNameError\u001b[0m                                 Traceback (most recent call last)",
      "\u001b[1;32m<ipython-input-34-3fa18de159fa>\u001b[0m in \u001b[0;36m<module>\u001b[1;34m\u001b[0m\n\u001b[1;32m----> 1\u001b[1;33m \u001b[0mmicoche2\u001b[0m\u001b[1;33m=\u001b[0m\u001b[0mCoche\u001b[0m\u001b[1;33m(\u001b[0m\u001b[1;33m)\u001b[0m\u001b[1;33m\u001b[0m\u001b[1;33m\u001b[0m\u001b[0m\n\u001b[0m\u001b[0;32m      2\u001b[0m \u001b[1;33m\u001b[0m\u001b[0m\n\u001b[0;32m      3\u001b[0m \u001b[0mprint\u001b[0m\u001b[1;33m(\u001b[0m\u001b[0mmicoche2\u001b[0m\u001b[1;33m.\u001b[0m\u001b[0marrancar\u001b[0m\u001b[1;33m(\u001b[0m\u001b[1;32mFalse\u001b[0m\u001b[1;33m)\u001b[0m\u001b[1;33m)\u001b[0m\u001b[1;33m\u001b[0m\u001b[1;33m\u001b[0m\u001b[0m\n\u001b[0;32m      4\u001b[0m \u001b[1;33m\u001b[0m\u001b[0m\n\u001b[0;32m      5\u001b[0m \u001b[0mmicoche2\u001b[0m\u001b[1;33m.\u001b[0m\u001b[0mestado\u001b[0m\u001b[1;33m(\u001b[0m\u001b[1;33m)\u001b[0m\u001b[1;33m\u001b[0m\u001b[1;33m\u001b[0m\u001b[0m\n",
      "\u001b[1;31mNameError\u001b[0m: name 'Coche' is not defined"
     ]
    }
   ],
   "source": [
    "micoche2=Coche()\n",
    "\n",
    "print(micoche2.arrancar(False))\n",
    "\n",
    "micoche2.estado()\n",
    "\n",
    "#print(micoche2.chequeo_interno()) #tampoco nos permitirá acceder\n",
    "print(micoche2.__chequeo_interno())"
   ]
  },
  {
   "cell_type": "markdown",
   "metadata": {},
   "source": [
    "## Herencia"
   ]
  },
  {
   "cell_type": "markdown",
   "metadata": {},
   "source": [
    "En términos generales, la herencia pose el mismo sentido que en las sociedades. Resulta ser una propiedad muy útil a la hora de crear códigos. Por ejemplo una clase puede contener las características comunes y propiedades para la creación de instancias de clase. Por otro lado podríamos definir otra clase similar, y sin necesariamente escribir nuevamente las características comunes. Esto lo lograríamos definiendo que nuestra nueva clase herede las características de anterior. por ello, a la clase inicial que contiene todas las propiedades generales la denominaremos superclase. Cabe destacar que también se pueden crear particularidades propias de la nueva clase, además de considerar las propiedades heredadas.  "
   ]
  },
  {
   "cell_type": "markdown",
   "metadata": {},
   "source": [
    "Definiremos una superclase llamada vehículos. Todos los vehículos tienen características comunes, luego puedo definir una clase más específica como una \"Moto\" y esta heredará las características generales. La sintaxis para esto no es más que definir la clase moto y dentro del paréntesis indicar desde donde hereda, en este caso desde la superclase vehículos."
   ]
  },
  {
   "cell_type": "code",
   "execution_count": 35,
   "metadata": {},
   "outputs": [],
   "source": [
    "class Vehiculos(): ## superclase\n",
    "\n",
    "\tdef __init__(self, marca, modelo): ## constructor para dar estado inicial\n",
    "#marca y modelo que le pasemos por parámetro\n",
    "\t\tself.marca=marca\n",
    "\t\tself.modelo=modelo\n",
    "#comienza detenido\n",
    "\t\tself.enmarcha=False \n",
    "\t\tself.acelera=False\n",
    "\t\tself.frena=False\n",
    "\n",
    "## definiendo comportamientos generales\n",
    "\tdef arrancar(self):\n",
    "\t\n",
    "\t\tself.enmarcha=True\n",
    "\n",
    "\tdef acelerar(self):\n",
    "\t\tself.acelerar=True\n",
    "\n",
    "\tdef frenar(self):\n",
    "\t\tself.frena=True\n",
    "\n",
    "\tdef estado(self): # el comando \\n es para asignar un salto de linea\n",
    "\t\tprint (\"Marca: \", self.marca, \"\\nModelo: \", self.modelo, \"\\nEn marcha: \",\n",
    "\t\t\tself.enmarcha, \"\\nAcelerando: \", self.acelera, \"\\nFrenando: \", self.frena)"
   ]
  },
  {
   "cell_type": "markdown",
   "metadata": {},
   "source": [
    "Definimos entonces la clase moto que heredará las caracteristicas de la superclase vehículo"
   ]
  },
  {
   "cell_type": "code",
   "execution_count": 36,
   "metadata": {},
   "outputs": [],
   "source": [
    "class Moto(Vehiculos): # notar que la sintaxis para heredar es colocar la superclase dentro del \n",
    "                       #paréntesis\n",
    "    pass #este comando es para indicar a pyton que por el momento no programaremos nada aqui    \n",
    "    \n",
    "    "
   ]
  },
  {
   "cell_type": "markdown",
   "metadata": {},
   "source": [
    "Ahora puedo crear una instancia en la clase \"Moto\" para consultar las propiedades heredadas."
   ]
  },
  {
   "cell_type": "code",
   "execution_count": 37,
   "metadata": {},
   "outputs": [],
   "source": [
    "miMoto=Moto(\"Honda\",\"CBR\")"
   ]
  },
  {
   "cell_type": "markdown",
   "metadata": {},
   "source": [
    "Una vez construida la instancia \"Moto\" podemos usar esta instancia para llamar a cualquiera de los métodos heredados, en este caso será el estado"
   ]
  },
  {
   "cell_type": "code",
   "execution_count": 38,
   "metadata": {},
   "outputs": [
    {
     "name": "stdout",
     "output_type": "stream",
     "text": [
      "Marca:  Honda \n",
      "Modelo:  CBR \n",
      "En marcha:  False \n",
      "Acelerando:  False \n",
      "Frenando:  False\n"
     ]
    }
   ],
   "source": [
    "miMoto.estado()"
   ]
  },
  {
   "cell_type": "markdown",
   "metadata": {},
   "source": [
    "## Sobreescritura de métodos"
   ]
  },
  {
   "cell_type": "markdown",
   "metadata": {},
   "source": [
    "Continuaremos con el ejemplo anterior en el cual definimos la superclase vehículos, pero ahora daremos comportamiento a la clase \"Moto\". Una característica especial de las motos es poder levantar la rueda delantera, luego crearemos la propiedad \"levantar rueda\". El objeto moto heredará todas las características de vehículo, sin embargo debemos sobreescribir el método \"estado\" en la nueva clase y agregar la propiedad \"levantar rueda\"."
   ]
  },
  {
   "cell_type": "code",
   "execution_count": 39,
   "metadata": {},
   "outputs": [],
   "source": [
    "class Vehiculos(): ## superclase\n",
    "\n",
    "\tdef __init__(self, marca, modelo): ## constructor para dar estado inicial\n",
    "#marca y modelo que le pasemos por parámetro\n",
    "\t\tself.marca=marca\n",
    "\t\tself.modelo=modelo\n",
    "#comienza detenido\n",
    "\t\tself.enmarcha=False \n",
    "\t\tself.acelera=False\n",
    "\t\tself.frena=False\n",
    "\n",
    "## definiendo comportamientos generales\n",
    "\tdef arrancar(self):\n",
    "\t\n",
    "\t\tself.enmarcha=True\n",
    "\n",
    "\tdef acelerar(self):\n",
    "\t\tself.acelerar=True\n",
    "\n",
    "\tdef frenar(self):\n",
    "\t\tself.frena=True\n",
    "\n",
    "\tdef estado(self): # el comando \\n es para asignar un salto de linea\n",
    "\t\tprint (\"Marca: \", self.marca, \"\\nModelo: \", self.modelo, \"\\nEn marcha: \",\n",
    "\t\t\tself.enmarcha, \"\\nAcelerando: \", self.acelera, \"\\nFrenando: \", self.frena)\n",
    "     \n",
    "        "
   ]
  },
  {
   "cell_type": "markdown",
   "metadata": {},
   "source": [
    "Creamos la clase Moto y asignamos el método LevantaRueda el cual lo inicializamos con una cadena de caracteres vacía"
   ]
  },
  {
   "cell_type": "code",
   "execution_count": 40,
   "metadata": {},
   "outputs": [],
   "source": [
    "class Moto(Vehiculos): \n",
    "    \n",
    "    LevantaRueda=\"\"\n",
    "    def LevantaR(self):\n",
    "        self.LevantaRueda=\"Levanto la rueda\"\n",
    "    "
   ]
  },
  {
   "cell_type": "markdown",
   "metadata": {},
   "source": [
    "Si invocamos el método \"LevantaRueda\" y luego invocamos el método \"estado\" veremos que no muestra la realización del método \"LevantaRueda\", esto es por que necesitamos sobreescribir el método."
   ]
  },
  {
   "cell_type": "code",
   "execution_count": 41,
   "metadata": {},
   "outputs": [
    {
     "name": "stdout",
     "output_type": "stream",
     "text": [
      "Marca:  Honda \n",
      "Modelo:  CBR \n",
      "En marcha:  False \n",
      "Acelerando:  False \n",
      "Frenando:  False\n"
     ]
    }
   ],
   "source": [
    "miMoto=Moto(\"Honda\", \"CBR\")\n",
    "\n",
    "miMoto.LevantaR()\t\n",
    "\n",
    "miMoto.estado()"
   ]
  },
  {
   "cell_type": "markdown",
   "metadata": {},
   "source": [
    "Aquí sobreescribiremos el método \"estado\" en la clase \"Moto\" para gregar el nuevo método que es propio de las motos (LevanraRueda). Cabe destacar que python siempre escogerá por default el método sebreescrito."
   ]
  },
  {
   "cell_type": "code",
   "execution_count": 42,
   "metadata": {},
   "outputs": [],
   "source": [
    "class Moto(Vehiculos): \n",
    "    \n",
    "    LevantaRueda=\"\"\n",
    "    def LevantaR(self):\n",
    "        self.LevantaRueda=\"Levanto la rueda\"\n",
    "    def estado(self): # el comando \\n es para asignar un salto de linea\n",
    "        print (\"Marca: \", self.marca, \"\\nModelo: \", self.modelo, \"\\nEn marcha: \",\n",
    "               self.enmarcha, \"\\nAcelerando: \", self.acelera, \"\\nFrenando: \", self.frena, \"\\n\", \n",
    "               self.LevantaRueda)\n",
    " "
   ]
  },
  {
   "cell_type": "markdown",
   "metadata": {},
   "source": [
    "Luego al consultar nuevamente el método estado aparece la propiedad levantar rueda. "
   ]
  },
  {
   "cell_type": "code",
   "execution_count": 43,
   "metadata": {},
   "outputs": [
    {
     "name": "stdout",
     "output_type": "stream",
     "text": [
      "Marca:  Honda \n",
      "Modelo:  CBR \n",
      "En marcha:  False \n",
      "Acelerando:  False \n",
      "Frenando:  False \n",
      " Levanto la rueda\n"
     ]
    }
   ],
   "source": [
    "miMoto=Moto(\"Honda\", \"CBR\")\n",
    "\n",
    "miMoto.LevantaR()\n",
    "\n",
    "miMoto.estado()"
   ]
  },
  {
   "cell_type": "code",
   "execution_count": null,
   "metadata": {},
   "outputs": [],
   "source": []
  }
 ],
 "metadata": {
  "kernelspec": {
   "display_name": "Python 3",
   "language": "python",
   "name": "python3"
  },
  "language_info": {
   "codemirror_mode": {
    "name": "ipython",
    "version": 3
   },
   "file_extension": ".py",
   "mimetype": "text/x-python",
   "name": "python",
   "nbconvert_exporter": "python",
   "pygments_lexer": "ipython3",
   "version": "3.7.7"
  }
 },
 "nbformat": 4,
 "nbformat_minor": 4
}
